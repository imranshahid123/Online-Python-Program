{
 "cells": [
  {
   "cell_type": "code",
   "execution_count": 1,
   "id": "90244a5e",
   "metadata": {},
   "outputs": [
    {
     "name": "stdout",
     "output_type": "stream",
     "text": [
      "Hello Imran Shahid\n"
     ]
    }
   ],
   "source": [
    "print(\"Hello Imran Shahid\");"
   ]
  },
  {
   "cell_type": "code",
   "execution_count": 2,
   "id": "d6b31b74",
   "metadata": {},
   "outputs": [
    {
     "name": "stdout",
     "output_type": "stream",
     "text": [
      "Saeed Uncle\n"
     ]
    }
   ],
   "source": [
    "print(\"Saeed Uncle\")"
   ]
  },
  {
   "cell_type": "code",
   "execution_count": null,
   "id": "70b99cf4",
   "metadata": {},
   "outputs": [],
   "source": []
  }
 ],
 "metadata": {
  "kernelspec": {
   "display_name": "Python 3",
   "language": "python",
   "name": "python3"
  },
  "language_info": {
   "codemirror_mode": {
    "name": "ipython",
    "version": 3
   },
   "file_extension": ".py",
   "mimetype": "text/x-python",
   "name": "python",
   "nbconvert_exporter": "python",
   "pygments_lexer": "ipython3",
   "version": "3.8.8"
  }
 },
 "nbformat": 4,
 "nbformat_minor": 5
}
